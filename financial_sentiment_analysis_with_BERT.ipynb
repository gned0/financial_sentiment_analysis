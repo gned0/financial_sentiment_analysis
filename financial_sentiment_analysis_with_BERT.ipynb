{
  "nbformat": 4,
  "nbformat_minor": 0,
  "metadata": {
    "colab": {
      "name": "financial_sentiment_analysis_with_BERT.ipynb",
      "provenance": [],
      "collapsed_sections": [],
      "toc_visible": true
    },
    "kernelspec": {
      "name": "python3",
      "display_name": "Python 3"
    },
    "language_info": {
      "name": "python"
    },
    "accelerator": "GPU"
  },
  "cells": [
    {
      "cell_type": "markdown",
      "metadata": {
        "id": "VNwMdJP7_Cvw"
      },
       "source": [
        "\u003ca href=\"https://colab.research.google.com/github/gned0/financial_sentiment_analysis/blob/main/financial_sentiment_analysis_with_BERT.ipynb\" target=\"_parent\"\u003e\u003cimg src=\"https://colab.research.google.com/assets/colab-badge.svg\" alt=\"Open In Colab\"/\u003e\u003c/a\u003e\n"
      ],
      "source": [
        "# Financial sentiment analysis\n",
        "\n",
        "Fine-tuning di un modello [BERT](https://arxiv.org/pdf/1810.04805.pdf) preaddestrato caricato da [TensorFlow Hub](https://www.tensorflow.org/hub/) per eseguire sentiment analysis su un [dataset di news finanziarie](https://www.kaggle.com/ankurzing/sentiment-analysis-for-financial-news)."
      ]
    },
    {
      "cell_type": "markdown",
      "metadata": {
        "id": "79MXon8cyNqO"
      },
      "source": [
        "## Dataset e Preprocessing"
      ]
    },
    {
      "cell_type": "code",
      "metadata": {
        "id": "ylKGCBXd1n5j"
      },
      "source": [
        "!pip install -q -U tensorflow-text"
      ],
      "execution_count": 26,
      "outputs": []
    },
    {
      "cell_type": "code",
      "metadata": {
        "id": "hmAhO-PxXEnf"
      },
      "source": [
        "import pandas as pd\n",
        "import tensorflow as tf\n",
        "import tensorflow_hub as hub\n",
        "import tensorflow_text as text\n",
        "import numpy as np"
      ],
      "execution_count": 27,
      "outputs": []
    },
    {
      "cell_type": "markdown",
      "metadata": {
        "id": "RVZpph9U_BdU"
      },
      "source": [
        "Il dataset in questione è composto da entry formate dal titolo di un articolo di news finanziarie e la relativa etichetta (positive, neutral, negative). Utilizzare il solo titolo e non l'intero articolo è una pratica comune, viene utilizzata anche nel paper [Deep Learning for Event-Driven Stock Prediction](https://www.ijcai.org/Proceedings/15/Papers/329.pdf), in quanto il titolo è considerato una sintesi esaustiva del contenuto dell'articolo.\n"
      ]
    },
    {
      "cell_type": "code",
      "metadata": {
        "id": "Qm78hQteS01b"
      },
      "source": [
        "import os.path\n",
        "from urllib.request import urlretrieve\n",
        "\n",
        "if not os.path.exists(\"financial_data_all.csv\"):\n",
        "    urlretrieve(\"https://raw.githubusercontent.com/gned0/financial_sentiment_analysis/main/financial_data_all.csv\", \"financial_data_all.csv\")\n",
        "\n",
        "data = pd.read_csv('financial_data_all.csv', delimiter=',', encoding='latin-1')"
      ],
      "execution_count": 28,
      "outputs": []
    },
    {
      "cell_type": "code",
      "metadata": {
        "id": "AmfS1ML6tnsG",
        "colab": {
          "base_uri": "https://localhost:8080/",
          "height": 204
        },
        "outputId": "1182a5ac-e352-4f75-cf3e-e24d33e0ada8"
      },
      "source": [
        "data2 = data.set_axis(['Target', \"Text\"], axis=1, inplace=False)\n",
        "data2.head()"
      ],
      "execution_count": 29,
      "outputs": [
        {
          "output_type": "execute_result",
          "data": {
            "text/html": [
              "<div>\n",
              "<style scoped>\n",
              "    .dataframe tbody tr th:only-of-type {\n",
              "        vertical-align: middle;\n",
              "    }\n",
              "\n",
              "    .dataframe tbody tr th {\n",
              "        vertical-align: top;\n",
              "    }\n",
              "\n",
              "    .dataframe thead th {\n",
              "        text-align: right;\n",
              "    }\n",
              "</style>\n",
              "<table border=\"1\" class=\"dataframe\">\n",
              "  <thead>\n",
              "    <tr style=\"text-align: right;\">\n",
              "      <th></th>\n",
              "      <th>Target</th>\n",
              "      <th>Text</th>\n",
              "    </tr>\n",
              "  </thead>\n",
              "  <tbody>\n",
              "    <tr>\n",
              "      <th>0</th>\n",
              "      <td>neutral</td>\n",
              "      <td>Technopolis plans to develop in stages an area...</td>\n",
              "    </tr>\n",
              "    <tr>\n",
              "      <th>1</th>\n",
              "      <td>negative</td>\n",
              "      <td>The international electronic industry company ...</td>\n",
              "    </tr>\n",
              "    <tr>\n",
              "      <th>2</th>\n",
              "      <td>positive</td>\n",
              "      <td>With the new production plant the company woul...</td>\n",
              "    </tr>\n",
              "    <tr>\n",
              "      <th>3</th>\n",
              "      <td>positive</td>\n",
              "      <td>According to the company 's updated strategy f...</td>\n",
              "    </tr>\n",
              "    <tr>\n",
              "      <th>4</th>\n",
              "      <td>positive</td>\n",
              "      <td>FINANCING OF ASPOCOMP 'S GROWTH Aspocomp is ag...</td>\n",
              "    </tr>\n",
              "  </tbody>\n",
              "</table>\n",
              "</div>"
            ],
            "text/plain": [
              "     Target                                               Text\n",
              "0   neutral  Technopolis plans to develop in stages an area...\n",
              "1  negative  The international electronic industry company ...\n",
              "2  positive  With the new production plant the company woul...\n",
              "3  positive  According to the company 's updated strategy f...\n",
              "4  positive  FINANCING OF ASPOCOMP 'S GROWTH Aspocomp is ag..."
            ]
          },
          "metadata": {},
          "execution_count": 29
        }
      ]
    },
    {
      "cell_type": "code",
      "metadata": {
        "colab": {
          "base_uri": "https://localhost:8080/"
        },
        "id": "SdIWYZ2fts5h",
        "outputId": "2b4dcd9e-682a-494d-c0d2-5c144b90af59"
      },
      "source": [
        "data2['Target'].value_counts()"
      ],
      "execution_count": 30,
      "outputs": [
        {
          "output_type": "execute_result",
          "data": {
            "text/plain": [
              "neutral     2878\n",
              "positive    1363\n",
              "negative     604\n",
              "Name: Target, dtype: int64"
            ]
          },
          "metadata": {},
          "execution_count": 30
        }
      ]
    },
    {
      "cell_type": "markdown",
      "metadata": {
        "id": "saplhZygB3Dc"
      },
      "source": [
        "Labeling delle etichette"
      ]
    },
    {
      "cell_type": "code",
      "metadata": {
        "id": "EHyDaASrB2Cw",
        "colab": {
          "base_uri": "https://localhost:8080/",
          "height": 204
        },
        "outputId": "3332a58c-accf-41df-eaba-50166f6b498f"
      },
      "source": [
        "from sklearn import preprocessing\n",
        "data2[\"Target\"] = data2[\"Target\"].astype(\"category\")\n",
        "le = preprocessing.LabelEncoder()\n",
        "data2['Target'] = le.fit_transform(data2.Target.values)\n",
        "data2.head()"
      ],
      "execution_count": 31,
      "outputs": [
        {
          "output_type": "execute_result",
          "data": {
            "text/html": [
              "<div>\n",
              "<style scoped>\n",
              "    .dataframe tbody tr th:only-of-type {\n",
              "        vertical-align: middle;\n",
              "    }\n",
              "\n",
              "    .dataframe tbody tr th {\n",
              "        vertical-align: top;\n",
              "    }\n",
              "\n",
              "    .dataframe thead th {\n",
              "        text-align: right;\n",
              "    }\n",
              "</style>\n",
              "<table border=\"1\" class=\"dataframe\">\n",
              "  <thead>\n",
              "    <tr style=\"text-align: right;\">\n",
              "      <th></th>\n",
              "      <th>Target</th>\n",
              "      <th>Text</th>\n",
              "    </tr>\n",
              "  </thead>\n",
              "  <tbody>\n",
              "    <tr>\n",
              "      <th>0</th>\n",
              "      <td>1</td>\n",
              "      <td>Technopolis plans to develop in stages an area...</td>\n",
              "    </tr>\n",
              "    <tr>\n",
              "      <th>1</th>\n",
              "      <td>0</td>\n",
              "      <td>The international electronic industry company ...</td>\n",
              "    </tr>\n",
              "    <tr>\n",
              "      <th>2</th>\n",
              "      <td>2</td>\n",
              "      <td>With the new production plant the company woul...</td>\n",
              "    </tr>\n",
              "    <tr>\n",
              "      <th>3</th>\n",
              "      <td>2</td>\n",
              "      <td>According to the company 's updated strategy f...</td>\n",
              "    </tr>\n",
              "    <tr>\n",
              "      <th>4</th>\n",
              "      <td>2</td>\n",
              "      <td>FINANCING OF ASPOCOMP 'S GROWTH Aspocomp is ag...</td>\n",
              "    </tr>\n",
              "  </tbody>\n",
              "</table>\n",
              "</div>"
            ],
            "text/plain": [
              "   Target                                               Text\n",
              "0       1  Technopolis plans to develop in stages an area...\n",
              "1       0  The international electronic industry company ...\n",
              "2       2  With the new production plant the company woul...\n",
              "3       2  According to the company 's updated strategy f...\n",
              "4       2  FINANCING OF ASPOCOMP 'S GROWTH Aspocomp is ag..."
            ]
          },
          "metadata": {},
          "execution_count": 31
        }
      ]
    },
    {
      "cell_type": "markdown",
      "metadata": {
        "id": "KfdfpgR7CQg1"
      },
      "source": [
        "Conversione del dataset da Dataframe Pandas a Dataset Tensorflow"
      ]
    },
    {
      "cell_type": "code",
      "metadata": {
        "id": "kia0N1Sm0JFc"
      },
      "source": [
        "DATASET_SIZE = data2.size\n",
        "BATCH_SIZE = 32\n",
        "\n",
        "text = data2['Text'].to_numpy()\n",
        "targets = data2['Target'].to_numpy()\n",
        "\n",
        "dataset = tf.data.Dataset.from_tensor_slices((text, targets)).shuffle(1000)\n",
        "batches = dataset.shuffle(1000).batch(BATCH_SIZE)"
      ],
      "execution_count": 32,
      "outputs": []
    },
    {
      "cell_type": "code",
      "metadata": {
        "id": "3PN4Q6C2yzD3",
        "colab": {
          "base_uri": "https://localhost:8080/"
        },
        "outputId": "9bd963b6-d246-41c1-e654-c4c3f77081ef"
      },
      "source": [
        "\n",
        "train_size = int(0.85 * DATASET_SIZE)\n",
        "val_size = int(0.15 * DATASET_SIZE)\n",
        "train_dataset = dataset.take(train_size).batch(BATCH_SIZE)\n",
        "val_dataset = dataset.skip(train_size)\n",
        "val_dataset = dataset.take(val_size).batch(BATCH_SIZE)\n",
        "\n",
        "train_dataset"
      ],
      "execution_count": 33,
      "outputs": [
        {
          "output_type": "execute_result",
          "data": {
            "text/plain": [
              "<BatchDataset shapes: ((None,), (None,)), types: (tf.string, tf.int64)>"
            ]
          },
          "metadata": {},
          "execution_count": 33
        }
      ]
    },
    {
      "cell_type": "markdown",
      "metadata": {
        "id": "aXart-vsCgg8"
      },
      "source": [
        "Ogni batch ha la seguente forma"
      ]
    },
    {
      "cell_type": "code",
      "metadata": {
        "colab": {
          "base_uri": "https://localhost:8080/"
        },
        "id": "rsZtwttI_MN_",
        "outputId": "8a3442a6-b490-408c-ba98-d918e273e56b"
      },
      "source": [
        "for row in train_dataset.take(1):\n",
        "  print(row)"
      ],
      "execution_count": 34,
      "outputs": [
        {
          "output_type": "stream",
          "name": "stdout",
          "text": [
            "(<tf.Tensor: shape=(32,), dtype=string, numpy=\n",
            "array([b'Finnish food company Raisio Oyj HEL : RAIVV said on Friday it has wrapped up the divestment of its margarine operations to US sector player Bunge Ltd NYSE : BG for EUR80m USD119 .2 m .',\n",
            "       b\"Cargotec 's share capital after the increase totals EUR 64,299,180 .\",\n",
            "       b\"Kalnapilio-Tauro Grupe ( Kalnapilis-Tauras Group ) , which is owned by Denmark 's Royal Unibrew , raised its market share to 25.18 percent from 23.74 percent , as beer sales for the seven months jumped by 14.5 percent to 40.5 million liters .\",\n",
            "       b\"Seppala 's revenue increased by 0.2 % to EUR10 .1 m. In Finland , revenue went down by 2.4 % to EUR6 .8 m , while sales abroad rose by 6.2 % to EUR3 .3 m. Sales increased in all the Baltic countries as well as in Russia and Ukraine .\",\n",
            "       b'The borrower was happy to do the roadshow and this paid off as the hit ratio from it was high .',\n",
            "       b'Compared with the FTSE 100 index , which rose 28.3 points or 0.5 % on the day , this was a relative price change of 2.3 % .',\n",
            "       b\"`` UPM 's deliveries increased during the third quarter by 4 percent , and the efficiency of operations improved , '' Chief Executive Jussi Pesonen said .\",\n",
            "       b'However , net sales in 2010 are seen to have grown to EUR598 .3 m from EUR582 .3 m in 2009 .',\n",
            "       b'Amer Sports divests an industrial site in Rumilly , France -  This announcement is distributed by Thomson Reuters on behalf of Thomson Reuters clients .',\n",
            "       b'Compared with the FTSE 100 index , which rose 51.5 points ( or 0.9 % ) on the day , this was a relative price change of -0.6 % .',\n",
            "       b'Cargotec Germany GmbH has been awarded a contract by Stadtverwaltung Mainz for chassis bodies under Open procedure .',\n",
            "       b\"Ruukki 's delivery includes steel structures , including installation , for Krakeroy bascule bridge and steel piles for the bridge foundations .\",\n",
            "       b'Both operating profit and turnover for the six-month period increased , respectively from EUR0 .1 m and EUR29 .0 m , as compared to the corresponding period a year ago .',\n",
            "       b'Affecto expects its net sales for the whole 2010 to increase from the 2009 level when they reached EUR 103 million .',\n",
            "       b'Press release 9 October 2009 Ruukki has signed a contract to deliver and install the steel structures for a bridge over the Kyronsalmi strait in Savonlinna , Finland .',\n",
            "       b\"The sale , which will result in a gain of some EUR 60 million in the second quarter of 2010 for Oriola-KD , supports the Finnish company 's strategy to focus on pharmaceutical wholesale and retail operations .\",\n",
            "       b\"`` The new structure provides better communication , faster decision-making and cost savings , '' Proha said .\",\n",
            "       b'( ADP News ) - Sep 30 , 2008 - Finnish security and privacy software solutions developer Stonesoft Oyj said today that it won a USD 1.9 million ( EUR 1.3 m ) order to deliver its StoneGate network security products to an unnamed Russian te',\n",
            "       b\"According to Finnish Metso Minerals , the value of the company 's orders has gone up to EUR 1.9 bn in 12 months .\",\n",
            "       b'Exports accounted for 65.4 % of net sales , representing an all time record for the company .',\n",
            "       b'Operating profit surged to EUR21m from EUR106 ,000 .',\n",
            "       b'Profit for the period increased from EUR 2.9 mn to EUR 10.5 mn .',\n",
            "       b'The Group brand portfolio includes the leading brand in the industry , Rapala , and other global brands like VMC , Storm , Blue Fox , Luhr Jensen , Williamson , Marttiini and Sufix .',\n",
            "       b'Repair and maintenance business accounted for net sales of EUR 645.3 mn , up from EUR 563.6 mn .',\n",
            "       b\"Neste Oil said it will build a biodiesel production facility in Rotterdam , the Netherlands , at an estimated cost of 670 million euros , naming France-based Technip as the project 's main contractor .\",\n",
            "       b'The contract covers the manufacturing , surface-treatment and installation of the steel structures .',\n",
            "       b'Actions to improve operational efficiency and adjust operations are expected to deliver annualised permanent cost savings of around EUR 4.5 million and will be effected mostly during the first half of 2010 .',\n",
            "       b'Operating profit increased to EUR 14.0 mn from EUR 4.9 mn in the corresponding period in 2005 .',\n",
            "       b\"The acquisition will have an immediate positive impact on Aspocomp 's financial result .\",\n",
            "       b'The Group aims to increase its net sales and comparable operating profit in 2006 .',\n",
            "       b'Thereby , the company will expand its offering to North , Central and South America .',\n",
            "       b'Nevertheless , its market share rose to 49.14 percent from 48.51 percent a year earlier .'],\n",
            "      dtype=object)>, <tf.Tensor: shape=(32,), dtype=int64, numpy=\n",
            "array([1, 1, 2, 2, 2, 2, 2, 2, 1, 1, 2, 1, 2, 2, 2, 2, 2, 2, 2, 2, 2, 2,\n",
            "       1, 2, 1, 1, 2, 2, 2, 2, 2, 2])>)\n"
          ]
        }
      ]
    },
    {
      "cell_type": "markdown",
      "metadata": {
        "id": "-Y5o7uOVyLqZ"
      },
      "source": [
        "## Costruzione del modello"
      ]
    },
    {
      "cell_type": "markdown",
      "metadata": {
        "id": "6ZyBlXXuCtYT"
      },
      "source": [
        "Da TensorFlow Hub viene importato un modello BERT (architettura con 12 layer, ognuno con 12 attention heads). Il modello importato ha già i pesi del pre-training (eseguito su Wikipedia e BooksCorpus). Viene anche importato il relativo layer di preprocessing, che sarà inserito subito dopo il layer di input nella rete neurale."
      ]
    },
    {
      "cell_type": "code",
      "metadata": {
        "id": "TJZQDptcXZlq"
      },
      "source": [
        "bert_model_name = 'bert_en_uncased_L-12_H-768_A-12'\n",
        "\n",
        "tfhub_handle_preprocess = 'https://tfhub.dev/tensorflow/bert_en_uncased_preprocess/3'\n",
        "tfhub_handle_encoder = 'https://tfhub.dev/tensorflow/bert_en_uncased_L-12_H-768_A-12/3'"
      ],
      "execution_count": null,
      "outputs": []
    },
    {
      "cell_type": "code",
      "metadata": {
        "id": "z7IxTeaag2oC"
      },
      "source": [
        "preprocessing = hub.KerasLayer(tfhub_handle_preprocess, name='preprocessing')\n",
        "encoder_layer = hub.KerasLayer(tfhub_handle_encoder, trainable=True, name='BERT_encoder')"
      ],
      "execution_count": null,
      "outputs": []
    },
    {
      "cell_type": "code",
      "metadata": {
        "colab": {
          "base_uri": "https://localhost:8080/"
        },
        "id": "bsA5odHY51NJ",
        "outputId": "b11a0815-4918-4026-9055-dbec079da795"
      },
      "source": [
        "text_test = ['Apple sues Samsung']\n",
        "preprocessing(text_test)"
      ],
      "execution_count": null,
      "outputs": [
        {
          "output_type": "execute_result",
          "data": {
            "text/plain": [
              "{'input_mask': <tf.Tensor: shape=(1, 128), dtype=int32, numpy=\n",
              " array([[1, 1, 1, 1, 1, 1, 0, 0, 0, 0, 0, 0, 0, 0, 0, 0, 0, 0, 0, 0, 0, 0,\n",
              "         0, 0, 0, 0, 0, 0, 0, 0, 0, 0, 0, 0, 0, 0, 0, 0, 0, 0, 0, 0, 0, 0,\n",
              "         0, 0, 0, 0, 0, 0, 0, 0, 0, 0, 0, 0, 0, 0, 0, 0, 0, 0, 0, 0, 0, 0,\n",
              "         0, 0, 0, 0, 0, 0, 0, 0, 0, 0, 0, 0, 0, 0, 0, 0, 0, 0, 0, 0, 0, 0,\n",
              "         0, 0, 0, 0, 0, 0, 0, 0, 0, 0, 0, 0, 0, 0, 0, 0, 0, 0, 0, 0, 0, 0,\n",
              "         0, 0, 0, 0, 0, 0, 0, 0, 0, 0, 0, 0, 0, 0, 0, 0, 0, 0]],\n",
              "       dtype=int32)>,\n",
              " 'input_type_ids': <tf.Tensor: shape=(1, 128), dtype=int32, numpy=\n",
              " array([[0, 0, 0, 0, 0, 0, 0, 0, 0, 0, 0, 0, 0, 0, 0, 0, 0, 0, 0, 0, 0, 0,\n",
              "         0, 0, 0, 0, 0, 0, 0, 0, 0, 0, 0, 0, 0, 0, 0, 0, 0, 0, 0, 0, 0, 0,\n",
              "         0, 0, 0, 0, 0, 0, 0, 0, 0, 0, 0, 0, 0, 0, 0, 0, 0, 0, 0, 0, 0, 0,\n",
              "         0, 0, 0, 0, 0, 0, 0, 0, 0, 0, 0, 0, 0, 0, 0, 0, 0, 0, 0, 0, 0, 0,\n",
              "         0, 0, 0, 0, 0, 0, 0, 0, 0, 0, 0, 0, 0, 0, 0, 0, 0, 0, 0, 0, 0, 0,\n",
              "         0, 0, 0, 0, 0, 0, 0, 0, 0, 0, 0, 0, 0, 0, 0, 0, 0, 0]],\n",
              "       dtype=int32)>,\n",
              " 'input_word_ids': <tf.Tensor: shape=(1, 128), dtype=int32, numpy=\n",
              " array([[  101,  6207,  9790,  2015, 19102,   102,     0,     0,     0,\n",
              "             0,     0,     0,     0,     0,     0,     0,     0,     0,\n",
              "             0,     0,     0,     0,     0,     0,     0,     0,     0,\n",
              "             0,     0,     0,     0,     0,     0,     0,     0,     0,\n",
              "             0,     0,     0,     0,     0,     0,     0,     0,     0,\n",
              "             0,     0,     0,     0,     0,     0,     0,     0,     0,\n",
              "             0,     0,     0,     0,     0,     0,     0,     0,     0,\n",
              "             0,     0,     0,     0,     0,     0,     0,     0,     0,\n",
              "             0,     0,     0,     0,     0,     0,     0,     0,     0,\n",
              "             0,     0,     0,     0,     0,     0,     0,     0,     0,\n",
              "             0,     0,     0,     0,     0,     0,     0,     0,     0,\n",
              "             0,     0,     0,     0,     0,     0,     0,     0,     0,\n",
              "             0,     0,     0,     0,     0,     0,     0,     0,     0,\n",
              "             0,     0,     0,     0,     0,     0,     0,     0,     0,\n",
              "             0,     0]], dtype=int32)>}"
            ]
          },
          "metadata": {},
          "execution_count": 116
        }
      ]
    },
    {
      "cell_type": "code",
      "metadata": {
        "id": "4kwKKabqb97M"
      },
      "source": [
        "def build_classifier_model():\n",
        "  text_input = tf.keras.layers.Input(shape=(), dtype=tf.string, name='text')\n",
        "  preprocessing_layer = preprocessing\n",
        "  encoder_inputs = preprocessing_layer(text_input)\n",
        "  encoder = encoder_layer\n",
        "  outputs = encoder(encoder_inputs)\n",
        "  net = outputs['pooled_output']\n",
        "  net = tf.keras.layers.Dropout(0.1)(net)\n",
        "  net = tf.keras.layers.Dense(3, activation='softmax', name='classifier')(net)\n",
        "  return tf.keras.Model(text_input, net)"
      ],
      "execution_count": null,
      "outputs": []
    },
    {
      "cell_type": "code",
      "metadata": {
        "id": "XCFgBPULgLz1"
      },
      "source": [
        "model = build_classifier_model()"
      ],
      "execution_count": null,
      "outputs": []
    },
    {
      "cell_type": "code",
      "metadata": {
        "id": "fpqLxgPycoqn"
      },
      "source": [
        "model.compile(loss=tf.losses.SparseCategoricalCrossentropy(from_logits=False), optimizer=\"sgd\", metrics=['accuracy'])"
      ],
      "execution_count": null,
      "outputs": []
    },
    {
      "cell_type": "code",
      "metadata": {
        "colab": {
          "base_uri": "https://localhost:8080/"
        },
        "id": "z1lDmbhhnOES",
        "outputId": "a9995cbf-c488-4f82-f9c2-2fbeb8cd10da"
      },
      "source": [
        "model.summary()"
      ],
      "execution_count": null,
      "outputs": [
        {
          "output_type": "stream",
          "name": "stdout",
          "text": [
            "Model: \"model_2\"\n",
            "__________________________________________________________________________________________________\n",
            "Layer (type)                    Output Shape         Param #     Connected to                     \n",
            "==================================================================================================\n",
            "text (InputLayer)               [(None,)]            0                                            \n",
            "__________________________________________________________________________________________________\n",
            "preprocessing (KerasLayer)      {'input_word_ids': ( 0           text[0][0]                       \n",
            "__________________________________________________________________________________________________\n",
            "BERT_encoder (KerasLayer)       {'pooled_output': (N 109482241   preprocessing[0][0]              \n",
            "                                                                 preprocessing[0][1]              \n",
            "                                                                 preprocessing[0][2]              \n",
            "__________________________________________________________________________________________________\n",
            "dropout_2 (Dropout)             (None, 768)          0           BERT_encoder[0][13]              \n",
            "__________________________________________________________________________________________________\n",
            "classifier (Dense)              (None, 3)            2307        dropout_2[0][0]                  \n",
            "==================================================================================================\n",
            "Total params: 109,484,548\n",
            "Trainable params: 109,484,547\n",
            "Non-trainable params: 1\n",
            "__________________________________________________________________________________________________\n"
          ]
        }
      ]
    },
    {
      "cell_type": "markdown",
      "metadata": {
        "id": "lsNhh3nKHMsH"
      },
      "source": [
        "## Addestramento e valutazione"
      ]
    },
    {
      "cell_type": "markdown",
      "metadata": {
        "id": "KKM9ehLtn9Sr"
      },
      "source": [
        "Viene utilizzato un callback per salvare dei checkpoint dei pesi durante l'addestramento: alla fine di ogni epoca, se essa è la migliore finora, viene salvato un checkpoint dei pesi. La metrica di confronto delle epoche è l'accuracy (parametro *monitor*)."
      ]
    },
    {
      "cell_type": "code",
      "metadata": {
        "id": "HtfDFAnN_Neu",
        "colab": {
          "base_uri": "https://localhost:8080/"
        },
        "outputId": "97d0b8b6-4e13-43f5-9c34-b2501bb73fa6"
      },
      "source": [
        "EPOCHS = 5\n",
        "checkpoint_filepath = '/tmp/checkpoint'\n",
        "model_checkpoint_callback = tf.keras.callbacks.ModelCheckpoint(\n",
        "    filepath=checkpoint_filepath,\n",
        "    save_weights_only=True,\n",
        "    monitor='accuracy',\n",
        "    mode='max',\n",
        "    save_best_only=True)\n",
        "\n",
        "model.fit(train_dataset, epochs=EPOCHS, verbose = 1, callbacks=[model_checkpoint_callback])"
      ],
      "execution_count": null,
      "outputs": [
        {
          "output_type": "stream",
          "name": "stdout",
          "text": [
            "Epoch 1/5\n",
            "152/152 [==============================] - 262s 2s/step - loss: 0.6393 - accuracy: 0.7243\n",
            "Epoch 2/5\n",
            "152/152 [==============================] - 248s 2s/step - loss: 0.4132 - accuracy: 0.8322\n",
            "Epoch 3/5\n",
            "152/152 [==============================] - 249s 2s/step - loss: 0.3418 - accuracy: 0.8605\n",
            "Epoch 4/5\n",
            "152/152 [==============================] - 250s 2s/step - loss: 0.2563 - accuracy: 0.8945\n",
            "Epoch 5/5\n",
            "152/152 [==============================] - 249s 2s/step - loss: 0.2150 - accuracy: 0.9148\n"
          ]
        },
        {
          "output_type": "execute_result",
          "data": {
            "text/plain": [
              "<keras.callbacks.History at 0x7f8633d6ee50>"
            ]
          },
          "metadata": {},
          "execution_count": 47
        }
      ]
    },
    {
      "cell_type": "code",
      "metadata": {
        "id": "NSM4v_KboS14",
        "colab": {
          "base_uri": "https://localhost:8080/"
        },
        "outputId": "8268f76b-d2fb-48eb-e50e-e6e77865f339"
      },
      "source": [
        "model.evaluate(val_dataset)"
      ],
      "execution_count": null,
      "outputs": [
        {
          "output_type": "stream",
          "name": "stdout",
          "text": [
            "46/46 [==============================] - 30s 629ms/step - loss: 0.3562 - accuracy: 0.8610\n"
          ]
        },
        {
          "output_type": "execute_result",
          "data": {
            "text/plain": [
              "[0.356236070394516, 0.860977292060852]"
            ]
          },
          "metadata": {},
          "execution_count": 48
        }
      ]
    },
    {
      "cell_type": "markdown",
      "metadata": {
        "id": "leauEfWMz1r3"
      },
      "source": [
        "# Binarizzazione del problema"
      ]
    },
    {
      "cell_type": "markdown",
      "metadata": {
        "id": "A1osa6ox1rCh"
      },
      "source": [
        "Viene ora binarizzato il dataset (vengono rimosse le entry con etichetta \"neutral\"), dopodiché viene rieseguito il fine-tuning sul nuovo task binario."
      ]
    },
    {
      "cell_type": "code",
      "metadata": {
        "id": "1NuHvHLjz4Vx",
        "colab": {
          "base_uri": "https://localhost:8080/"
        },
        "outputId": "27d033dc-8e47-4d76-f6d2-179ec9a350c5"
      },
      "source": [
        "data_binary = data.set_axis(['Target', \"Text\"], axis=1, inplace=False)\n",
        "data_binary = data_binary[data_binary.Target != 'neutral']\n",
        "data_binary['Target'].value_counts()"
      ],
      "execution_count": 35,
      "outputs": [
        {
          "output_type": "execute_result",
          "data": {
            "text/plain": [
              "positive    1363\n",
              "negative     604\n",
              "Name: Target, dtype: int64"
            ]
          },
          "metadata": {},
          "execution_count": 35
        }
      ]
    },
    {
      "cell_type": "code",
      "metadata": {
        "id": "H-jOe8StuFcD"
      },
      "source": [
        "data_binary[\"Target\"] = data_binary[\"Target\"].astype(\"category\")\n",
        "data_binary['Target'] = le.fit_transform(data_binary.Target.values)"
      ],
      "execution_count": 36,
      "outputs": []
    },
    {
      "cell_type": "code",
      "metadata": {
        "id": "Iou8TPwLz6r_"
      },
      "source": [
        "BINARY_DATASET_SIZE = data_binary.size/2\n",
        "\n",
        "binary_text = data_binary['Text'].to_numpy()\n",
        "binary_targets = data_binary['Target'].to_numpy()\n",
        "dataset = tf.data.Dataset.from_tensor_slices((binary_text, binary_targets)).shuffle(1000)"
      ],
      "execution_count": 37,
      "outputs": []
    },
    {
      "cell_type": "code",
      "metadata": {
        "id": "OabdbkYTz9rm"
      },
      "source": [
        "train_size = int(0.85 * BINARY_DATASET_SIZE)\n",
        "val_size = int(0.15 * BINARY_DATASET_SIZE)\n",
        "train_dataset = dataset.take(train_size).batch(BATCH_SIZE)\n",
        "val_dataset = dataset.skip(train_size)\n",
        "val_dataset = dataset.take(val_size).batch(BATCH_SIZE)"
      ],
      "execution_count": 38,
      "outputs": []
    },
    {
      "cell_type": "code",
      "metadata": {
        "id": "GoPBsGxk0Upp"
      },
      "source": [
        "def build_binary_model():\n",
        "  text_input = tf.keras.layers.Input(shape=(), dtype=tf.string, name='text')\n",
        "  preprocessing_layer = preprocessing\n",
        "  encoder_inputs = preprocessing_layer(text_input)\n",
        "  encoder = encoder_layer\n",
        "  outputs = encoder(encoder_inputs)\n",
        "  net = outputs['pooled_output']\n",
        "  net = tf.keras.layers.Dropout(0.1)(net)\n",
        "  net = tf.keras.layers.Dense(1, activation=\"sigmoid\", name='classifier')(net)\n",
        "  return tf.keras.Model(text_input, net)"
      ],
      "execution_count": null,
      "outputs": []
    },
    {
      "cell_type": "code",
      "metadata": {
        "colab": {
          "base_uri": "https://localhost:8080/"
        },
        "id": "RuC7YSD80WlC",
        "outputId": "bbaccafe-c9d0-4cfb-c368-81bfa640881f"
      },
      "source": [
        "binary_model = build_binary_model()\n",
        "binary_model.compile(loss=tf.keras.losses.BinaryCrossentropy(from_logits=False), optimizer=\"sgd\", metrics=tf.metrics.BinaryAccuracy())\n",
        "binary_model.summary()"
      ],
      "execution_count": null,
      "outputs": [
        {
          "output_type": "stream",
          "name": "stdout",
          "text": [
            "Model: \"model\"\n",
            "__________________________________________________________________________________________________\n",
            "Layer (type)                    Output Shape         Param #     Connected to                     \n",
            "==================================================================================================\n",
            "text (InputLayer)               [(None,)]            0                                            \n",
            "__________________________________________________________________________________________________\n",
            "preprocessing (KerasLayer)      {'input_mask': (None 0           text[0][0]                       \n",
            "__________________________________________________________________________________________________\n",
            "BERT_encoder (KerasLayer)       {'sequence_output':  109482241   preprocessing[0][0]              \n",
            "                                                                 preprocessing[0][1]              \n",
            "                                                                 preprocessing[0][2]              \n",
            "__________________________________________________________________________________________________\n",
            "dropout (Dropout)               (None, 768)          0           BERT_encoder[0][13]              \n",
            "__________________________________________________________________________________________________\n",
            "classifier (Dense)              (None, 1)            769         dropout[0][0]                    \n",
            "==================================================================================================\n",
            "Total params: 109,483,010\n",
            "Trainable params: 109,483,009\n",
            "Non-trainable params: 1\n",
            "__________________________________________________________________________________________________\n"
          ]
        }
      ]
    },
    {
      "cell_type": "code",
      "metadata": {
        "colab": {
          "base_uri": "https://localhost:8080/"
        },
        "id": "ptQRPue-0mU0",
        "outputId": "4e2be606-615c-4b3c-d86c-e7efe80905ef"
      },
      "source": [
        "EPOCHS = 5\n",
        "checkpoint_filepath = '/tmp/checkpoint_binary'\n",
        "model_checkpoint_callback = tf.keras.callbacks.ModelCheckpoint(\n",
        "    filepath=checkpoint_filepath,\n",
        "    save_weights_only=True,\n",
        "    monitor='loss',\n",
        "    mode='max',\n",
        "    save_best_only=True)\n",
        "\n",
        "binary_model.fit(train_dataset, epochs=EPOCHS, verbose = 1, callbacks=[model_checkpoint_callback])"
      ],
      "execution_count": null,
      "outputs": [
        {
          "output_type": "stream",
          "name": "stdout",
          "text": [
            "Epoch 1/5\n",
            "53/53 [==============================] - 101s 2s/step - loss: 0.5088 - binary_accuracy: 0.7582\n",
            "Epoch 2/5\n",
            "53/53 [==============================] - 86s 2s/step - loss: 0.2797 - binary_accuracy: 0.8929\n",
            "Epoch 3/5\n",
            "53/53 [==============================] - 86s 2s/step - loss: 0.1502 - binary_accuracy: 0.9437\n",
            "Epoch 4/5\n",
            "53/53 [==============================] - 86s 2s/step - loss: 0.0959 - binary_accuracy: 0.9671\n",
            "Epoch 5/5\n",
            "53/53 [==============================] - 86s 2s/step - loss: 0.0742 - binary_accuracy: 0.9689\n"
          ]
        },
        {
          "output_type": "execute_result",
          "data": {
            "text/plain": [
              "<keras.callbacks.History at 0x7f8634f53210>"
            ]
          },
          "metadata": {},
          "execution_count": 24
        }
      ]
    },
    {
      "cell_type": "code",
      "metadata": {
        "id": "-BTCLQnL04Ti",
        "colab": {
          "base_uri": "https://localhost:8080/"
        },
        "outputId": "56a166e2-475e-4da4-d7aa-a832a01b6485"
      },
      "source": [
        "binary_model.evaluate(val_dataset)"
      ],
      "execution_count": null,
      "outputs": [
        {
          "output_type": "stream",
          "name": "stdout",
          "text": [
            "10/10 [==============================] - 7s 594ms/step - loss: 0.0264 - binary_accuracy: 0.9966\n"
          ]
        },
        {
          "output_type": "execute_result",
          "data": {
            "text/plain": [
              "[0.02635045163333416, 0.996610164642334]"
            ]
          },
          "metadata": {},
          "execution_count": 52
        }
      ]
    },
    {
      "cell_type": "markdown",
      "metadata": {
        "id": "E5g9CGffyXTf"
      },
      "source": [
        "# Confronto con semplice modello lineare"
      ]
    },
    {
      "cell_type": "markdown",
      "metadata": {
        "id": "BFpsKCHTydb6"
      },
      "source": [
        "## Binario"
      ]
    },
    {
      "cell_type": "code",
      "metadata": {
        "id": "ed9oXMX2uhOS"
      },
      "source": [
        "import sklearn"
      ],
      "execution_count": 19,
      "outputs": []
    },
    {
      "cell_type": "code",
      "metadata": {
        "id": "BAUY6RUovg2u"
      },
      "source": [
        "from sklearn.model_selection import train_test_split\n",
        "training, validation = train_test_split(data_binary, test_size=0.15, random_state=21)"
      ],
      "execution_count": 60,
      "outputs": []
    },
    {
      "cell_type": "code",
      "metadata": {
        "id": "NSaQ74JBvN0K"
      },
      "source": [
        "from sklearn.feature_extraction.text import CountVectorizer\n",
        "vect = CountVectorizer()"
      ],
      "execution_count": 61,
      "outputs": []
    },
    {
      "cell_type": "code",
      "metadata": {
        "colab": {
          "base_uri": "https://localhost:8080/"
        },
        "id": "oeqRatkPudqw",
        "outputId": "d3ac5e6f-97e5-42e7-ac18-ea57d07a3c9d"
      },
      "source": [
        "from sklearn.linear_model import LogisticRegression\n",
        "lrm = LogisticRegression(solver=\"saga\", C=10)\n",
        "lrm.fit(vect.fit_transform(training['Text']), training['Target']);"
      ],
      "execution_count": 65,
      "outputs": [
        {
          "output_type": "stream",
          "name": "stderr",
          "text": [
            "/usr/local/lib/python3.7/dist-packages/sklearn/linear_model/_sag.py:330: ConvergenceWarning: The max_iter was reached which means the coef_ did not converge\n",
            "  \"the coef_ did not converge\", ConvergenceWarning)\n"
          ]
        }
      ]
    },
    {
      "cell_type": "code",
      "metadata": {
        "colab": {
          "base_uri": "https://localhost:8080/"
        },
        "id": "CCp80xSqujrC",
        "outputId": "666bd8ad-df2e-466e-aee5-d2e0a60824c4"
      },
      "source": [
        "lrm.score(vect.transform(validation['Text']), validation['Target'])"
      ],
      "execution_count": 66,
      "outputs": [
        {
          "output_type": "execute_result",
          "data": {
            "text/plain": [
              "0.8648648648648649"
            ]
          },
          "metadata": {},
          "execution_count": 66
        }
      ]
    },
    {
      "cell_type": "markdown",
      "metadata": {
        "id": "D9HsH8nNyiP-"
      },
      "source": [
        "## Multiclasse"
      ]
    },
    {
      "cell_type": "code",
      "metadata": {
        "id": "38pwv22Jul0b"
      },
      "source": [
        "training, validation = train_test_split(data2, test_size=0.15, random_state=21)"
      ],
      "execution_count": 67,
      "outputs": []
    },
    {
      "cell_type": "code",
      "metadata": {
        "colab": {
          "base_uri": "https://localhost:8080/"
        },
        "id": "GYuGEM0fytH-",
        "outputId": "2c5d8a1c-eb92-4646-9fac-1b53093247f2"
      },
      "source": [
        "lrm = LogisticRegression(solver=\"saga\", C=10)\n",
        "lrm.fit(vect.fit_transform(training['Text']), training['Target']);"
      ],
      "execution_count": 68,
      "outputs": [
        {
          "output_type": "stream",
          "name": "stderr",
          "text": [
            "/usr/local/lib/python3.7/dist-packages/sklearn/linear_model/_sag.py:330: ConvergenceWarning: The max_iter was reached which means the coef_ did not converge\n",
            "  \"the coef_ did not converge\", ConvergenceWarning)\n"
          ]
        }
      ]
    },
    {
      "cell_type": "code",
      "metadata": {
        "colab": {
          "base_uri": "https://localhost:8080/"
        },
        "id": "SmDAqRlqyvGF",
        "outputId": "e349b691-d90a-4a61-a261-258eae0ccc49"
      },
      "source": [
        "lrm.score(vect.transform(validation['Text']), validation['Target'])"
      ],
      "execution_count": 69,
      "outputs": [
        {
          "output_type": "execute_result",
          "data": {
            "text/plain": [
              "0.7730398899587345"
            ]
          },
          "metadata": {},
          "execution_count": 69
        }
      ]
    },
    {
      "cell_type": "markdown",
      "metadata": {
        "id": "xxs7zjYFyy-_"
      },
      "source": [
        "# Conclusioni"
      ]
    },
    {
      "cell_type": "markdown",
      "metadata": {
        "id": "HvAa6Lrpy5qH"
      },
      "source": [
        "Un semplice modello lineare raggiunge accuracy del **77%** nel task multiclasse e dell' **86%** nel task binario. Il modello preaddestrato BERT con fine-tuning raggiunge invece rispettivamente l'**86%** e **99%** di accuracy."
      ]
    }
  ]
}
